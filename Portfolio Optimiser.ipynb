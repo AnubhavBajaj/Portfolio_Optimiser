{
  "nbformat": 4,
  "nbformat_minor": 0,
  "metadata": {
    "kernelspec": {
      "display_name": "Python 3",
      "language": "python",
      "name": "python3"
    },
    "language_info": {
      "codemirror_mode": {
        "name": "ipython",
        "version": 3
      },
      "file_extension": ".py",
      "mimetype": "text/x-python",
      "name": "python",
      "nbconvert_exporter": "python",
      "pygments_lexer": "ipython3",
      "version": "3.7.3"
    },
    "colab": {
      "name": "ANUBHAV_Quant_02.ipynb",
      "provenance": [],
      "toc_visible": true
    }
  },
  "cells": [
    {
      "cell_type": "markdown",
      "metadata": {
        "id": "Jg54Vvk3Q8rs"
      },
      "source": [
        "# Portfolio Optimiser\n",
        "        - Anubhav Bajaj"
      ]
    },
    {
      "cell_type": "markdown",
      "metadata": {
        "id": "brScEwYkQ8rw"
      },
      "source": [
        "Selected Stocks are:- Shree Cement, Bajaj Auto, IndusInd Bank, Eicher Motors, Maruti Suzuki , Titan\n",
        "\n",
        "Risk Free return rate as - 0.07 or 7%\n",
        "#### How did you choose the stocks?\n",
        "Criteria for selection - No Corporate Actions like Bonus, Splits and Rights;\n",
        "\n",
        "Criteria for optimising portfolio - No short selling\n",
        "\n",
        "and Expected Return(we have taken CAGR as return) greater than 0 for each stock\n",
        "#### What is the impact of increasing the number of stocks in the portfolio?\n",
        "Adding stocks from 1->5 increases possible values of reward and risk ratio thereby giving more freedom to an investor 6-15 as number of stock is sweet region to minimize risk for max return and  15-24 more or less generalises portfolio as market portfolio and beyond is simply over generalisation and becomes inefficient portfolio. \n",
        "#### Why are calculating the weights by optimization and not giving equal weightage to every stock?\n",
        "In order to minimise risk and maximise expected return and giving equal weightage isn't an affective way.\n",
        "#### Which parameters are you using to check the accuracy of your model?\n",
        "Sharpe Ratio, Treynor Ratio, Expected Return and Variance"
      ]
    },
    {
      "cell_type": "code",
      "metadata": {
        "id": "4yTsJ585Q8r6"
      },
      "source": [
        "import pandas as pd \n",
        "import numpy as np\n",
        "import matplotlib.pyplot as plt\n",
        "%matplotlib inline\n",
        "from nsepy import get_history\n",
        "from datetime import date\n",
        "import math"
      ],
      "execution_count": null,
      "outputs": []
    },
    {
      "cell_type": "markdown",
      "metadata": {
        "id": "1O7jSOydQ8sJ"
      },
      "source": [
        "## Importing Data"
      ]
    },
    {
      "cell_type": "code",
      "metadata": {
        "id": "3BKokeQ3Q8sM"
      },
      "source": [
        "stocks=['Shree Cement', 'Bajaj Auto', 'IndusInd Bank', 'Eicher Motors', 'Maruti Suzuki' , 'Titan']"
      ],
      "execution_count": null,
      "outputs": []
    },
    {
      "cell_type": "code",
      "metadata": {
        "id": "7P8HbcYfQ8sU"
      },
      "source": [
        "shree = get_history(symbol=\"SHREECEM\", start=date(2015,4,1), end=date(2017,3,31))\n",
        "bajajauto = get_history(symbol=\"BAJAJ-AUTO\", start=date(2015,4,1), end=date(2017,3,31))\n",
        "indusind = get_history(symbol=\"INDUSINDBK\", start=date(2015,4,1), end=date(2017,3,31))\n",
        "eicher = get_history(symbol=\"EICHERMOT\", start=date(2015,4,1), end=date(2017,3,31))\n",
        "maruti = get_history(symbol=\"MARUTI\", start=date(2015,4,1), end=date(2017,3,31))\n",
        "titan = get_history(symbol=\"TITAN\", start=date(2015,4,1), end=date(2017,3,31))"
      ],
      "execution_count": null,
      "outputs": []
    },
    {
      "cell_type": "code",
      "metadata": {
        "id": "GkRZzQRRQ8sb",
        "outputId": "122f5198-cfe5-4f14-99e8-aa219e8d3c7f"
      },
      "source": [
        "# Closing Data points\n",
        "data=pd.DataFrame()\n",
        "data['Shree Cement']=pd.Series(shree.Close)\n",
        "data['Bajaj Auto']=pd.Series(bajajauto.Close)\n",
        "data['IndusInd Bank']=pd.Series(indusind.Close)\n",
        "data['Eicher Motors']=pd.Series(eicher.Close)\n",
        "data['Maruti Suzuki']=pd.Series(maruti.Close)\n",
        "data['Titan']=pd.Series(titan.Close)\n",
        "data.head()"
      ],
      "execution_count": null,
      "outputs": [
        {
          "output_type": "execute_result",
          "data": {
            "text/html": [
              "<div>\n",
              "<style scoped>\n",
              "    .dataframe tbody tr th:only-of-type {\n",
              "        vertical-align: middle;\n",
              "    }\n",
              "\n",
              "    .dataframe tbody tr th {\n",
              "        vertical-align: top;\n",
              "    }\n",
              "\n",
              "    .dataframe thead th {\n",
              "        text-align: right;\n",
              "    }\n",
              "</style>\n",
              "<table border=\"1\" class=\"dataframe\">\n",
              "  <thead>\n",
              "    <tr style=\"text-align: right;\">\n",
              "      <th></th>\n",
              "      <th>Shree Cement</th>\n",
              "      <th>Bajaj Auto</th>\n",
              "      <th>IndusInd Bank</th>\n",
              "      <th>Eicher Motors</th>\n",
              "      <th>Maruti Suzuki</th>\n",
              "      <th>Titan</th>\n",
              "    </tr>\n",
              "    <tr>\n",
              "      <th>Date</th>\n",
              "      <th></th>\n",
              "      <th></th>\n",
              "      <th></th>\n",
              "      <th></th>\n",
              "      <th></th>\n",
              "      <th></th>\n",
              "    </tr>\n",
              "  </thead>\n",
              "  <tbody>\n",
              "    <tr>\n",
              "      <th>2015-04-01</th>\n",
              "      <td>10878.20</td>\n",
              "      <td>2019.80</td>\n",
              "      <td>925.25</td>\n",
              "      <td>16019.50</td>\n",
              "      <td>3644.70</td>\n",
              "      <td>390.40</td>\n",
              "    </tr>\n",
              "    <tr>\n",
              "      <th>2015-04-06</th>\n",
              "      <td>10865.45</td>\n",
              "      <td>2036.40</td>\n",
              "      <td>914.95</td>\n",
              "      <td>15782.45</td>\n",
              "      <td>3628.95</td>\n",
              "      <td>403.60</td>\n",
              "    </tr>\n",
              "    <tr>\n",
              "      <th>2015-04-07</th>\n",
              "      <td>10954.95</td>\n",
              "      <td>2094.55</td>\n",
              "      <td>906.95</td>\n",
              "      <td>15983.30</td>\n",
              "      <td>3599.90</td>\n",
              "      <td>406.60</td>\n",
              "    </tr>\n",
              "    <tr>\n",
              "      <th>2015-04-08</th>\n",
              "      <td>10788.35</td>\n",
              "      <td>2099.50</td>\n",
              "      <td>901.95</td>\n",
              "      <td>16524.85</td>\n",
              "      <td>3628.70</td>\n",
              "      <td>407.45</td>\n",
              "    </tr>\n",
              "    <tr>\n",
              "      <th>2015-04-09</th>\n",
              "      <td>11091.90</td>\n",
              "      <td>2098.55</td>\n",
              "      <td>943.90</td>\n",
              "      <td>16302.50</td>\n",
              "      <td>3659.20</td>\n",
              "      <td>399.95</td>\n",
              "    </tr>\n",
              "  </tbody>\n",
              "</table>\n",
              "</div>"
            ],
            "text/plain": [
              "            Shree Cement  Bajaj Auto  IndusInd Bank  Eicher Motors  \\\n",
              "Date                                                                 \n",
              "2015-04-01      10878.20     2019.80         925.25       16019.50   \n",
              "2015-04-06      10865.45     2036.40         914.95       15782.45   \n",
              "2015-04-07      10954.95     2094.55         906.95       15983.30   \n",
              "2015-04-08      10788.35     2099.50         901.95       16524.85   \n",
              "2015-04-09      11091.90     2098.55         943.90       16302.50   \n",
              "\n",
              "            Maruti Suzuki   Titan  \n",
              "Date                               \n",
              "2015-04-01        3644.70  390.40  \n",
              "2015-04-06        3628.95  403.60  \n",
              "2015-04-07        3599.90  406.60  \n",
              "2015-04-08        3628.70  407.45  \n",
              "2015-04-09        3659.20  399.95  "
            ]
          },
          "metadata": {
            "tags": []
          },
          "execution_count": 27
        }
      ]
    },
    {
      "cell_type": "code",
      "metadata": {
        "scrolled": false,
        "id": "Rno569NsQ8sm",
        "outputId": "096d841b-6f85-4d62-95fa-92ec479bfc52"
      },
      "source": [
        "# Daily returns as percentage\n",
        "returns=pd.DataFrame()\n",
        "returns['Shree Cement']=pd.Series(shree.Close.pct_change())\n",
        "returns['Bajaj Auto']=pd.Series(bajajauto.Close.pct_change())\n",
        "returns['IndusInd Bank']=pd.Series(indusind.Close.pct_change())\n",
        "returns['Eicher Motors']=pd.Series(eicher.Close.pct_change())\n",
        "returns['Maruti Suzuki']=pd.Series(maruti.Close.pct_change())\n",
        "returns['Titan']=pd.Series(titan.Close.pct_change())\n",
        "returns.head()"
      ],
      "execution_count": null,
      "outputs": [
        {
          "output_type": "execute_result",
          "data": {
            "text/html": [
              "<div>\n",
              "<style scoped>\n",
              "    .dataframe tbody tr th:only-of-type {\n",
              "        vertical-align: middle;\n",
              "    }\n",
              "\n",
              "    .dataframe tbody tr th {\n",
              "        vertical-align: top;\n",
              "    }\n",
              "\n",
              "    .dataframe thead th {\n",
              "        text-align: right;\n",
              "    }\n",
              "</style>\n",
              "<table border=\"1\" class=\"dataframe\">\n",
              "  <thead>\n",
              "    <tr style=\"text-align: right;\">\n",
              "      <th></th>\n",
              "      <th>Shree Cement</th>\n",
              "      <th>Bajaj Auto</th>\n",
              "      <th>IndusInd Bank</th>\n",
              "      <th>Eicher Motors</th>\n",
              "      <th>Maruti Suzuki</th>\n",
              "      <th>Titan</th>\n",
              "    </tr>\n",
              "    <tr>\n",
              "      <th>Date</th>\n",
              "      <th></th>\n",
              "      <th></th>\n",
              "      <th></th>\n",
              "      <th></th>\n",
              "      <th></th>\n",
              "      <th></th>\n",
              "    </tr>\n",
              "  </thead>\n",
              "  <tbody>\n",
              "    <tr>\n",
              "      <th>2015-04-01</th>\n",
              "      <td>NaN</td>\n",
              "      <td>NaN</td>\n",
              "      <td>NaN</td>\n",
              "      <td>NaN</td>\n",
              "      <td>NaN</td>\n",
              "      <td>NaN</td>\n",
              "    </tr>\n",
              "    <tr>\n",
              "      <th>2015-04-06</th>\n",
              "      <td>-0.001172</td>\n",
              "      <td>0.008219</td>\n",
              "      <td>-0.011132</td>\n",
              "      <td>-0.014798</td>\n",
              "      <td>-0.004321</td>\n",
              "      <td>0.033811</td>\n",
              "    </tr>\n",
              "    <tr>\n",
              "      <th>2015-04-07</th>\n",
              "      <td>0.008237</td>\n",
              "      <td>0.028555</td>\n",
              "      <td>-0.008744</td>\n",
              "      <td>0.012726</td>\n",
              "      <td>-0.008005</td>\n",
              "      <td>0.007433</td>\n",
              "    </tr>\n",
              "    <tr>\n",
              "      <th>2015-04-08</th>\n",
              "      <td>-0.015208</td>\n",
              "      <td>0.002363</td>\n",
              "      <td>-0.005513</td>\n",
              "      <td>0.033882</td>\n",
              "      <td>0.008000</td>\n",
              "      <td>0.002091</td>\n",
              "    </tr>\n",
              "    <tr>\n",
              "      <th>2015-04-09</th>\n",
              "      <td>0.028137</td>\n",
              "      <td>-0.000452</td>\n",
              "      <td>0.046510</td>\n",
              "      <td>-0.013455</td>\n",
              "      <td>0.008405</td>\n",
              "      <td>-0.018407</td>\n",
              "    </tr>\n",
              "  </tbody>\n",
              "</table>\n",
              "</div>"
            ],
            "text/plain": [
              "            Shree Cement  Bajaj Auto  IndusInd Bank  Eicher Motors  \\\n",
              "Date                                                                 \n",
              "2015-04-01           NaN         NaN            NaN            NaN   \n",
              "2015-04-06     -0.001172    0.008219      -0.011132      -0.014798   \n",
              "2015-04-07      0.008237    0.028555      -0.008744       0.012726   \n",
              "2015-04-08     -0.015208    0.002363      -0.005513       0.033882   \n",
              "2015-04-09      0.028137   -0.000452       0.046510      -0.013455   \n",
              "\n",
              "            Maruti Suzuki     Titan  \n",
              "Date                                 \n",
              "2015-04-01            NaN       NaN  \n",
              "2015-04-06      -0.004321  0.033811  \n",
              "2015-04-07      -0.008005  0.007433  \n",
              "2015-04-08       0.008000  0.002091  \n",
              "2015-04-09       0.008405 -0.018407  "
            ]
          },
          "metadata": {
            "tags": []
          },
          "execution_count": 28
        }
      ]
    },
    {
      "cell_type": "markdown",
      "metadata": {
        "id": "15Ty7CQcQ8s-"
      },
      "source": [
        "## WE will take CAGR as Expected Return"
      ]
    },
    {
      "cell_type": "markdown",
      "metadata": {
        "id": "eEtlQ_KHQ8tA"
      },
      "source": [
        "## Expected Return, Standard deviation, CoVariance matrix and Beta"
      ]
    },
    {
      "cell_type": "code",
      "metadata": {
        "scrolled": true,
        "id": "Yib3oWoVQ8tC",
        "outputId": "b510f6e3-9dae-4af8-866d-782d6ba80105"
      },
      "source": [
        "cagr=np.sqrt((data.loc['2017-03-31'])/data.loc['2015-04-01'])-1\n",
        "cagr"
      ],
      "execution_count": null,
      "outputs": [
        {
          "output_type": "execute_result",
          "data": {
            "text/plain": [
              "Shree Cement     0.253159\n",
              "Bajaj Auto       0.178547\n",
              "IndusInd Bank    0.241083\n",
              "Eicher Motors    0.263832\n",
              "Maruti Suzuki    0.284731\n",
              "Titan            0.088725\n",
              "dtype: float64"
            ]
          },
          "metadata": {
            "tags": []
          },
          "execution_count": 31
        }
      ]
    },
    {
      "cell_type": "code",
      "metadata": {
        "scrolled": true,
        "id": "hNfjQsIfQ8tL",
        "outputId": "069d5753-48fc-4ca9-a32f-aa6e1dd9c003"
      },
      "source": [
        "# covariance matrix\n",
        "cov_matrix = returns.cov()\n",
        "cov_matrix"
      ],
      "execution_count": null,
      "outputs": [
        {
          "output_type": "execute_result",
          "data": {
            "text/html": [
              "<div>\n",
              "<style scoped>\n",
              "    .dataframe tbody tr th:only-of-type {\n",
              "        vertical-align: middle;\n",
              "    }\n",
              "\n",
              "    .dataframe tbody tr th {\n",
              "        vertical-align: top;\n",
              "    }\n",
              "\n",
              "    .dataframe thead th {\n",
              "        text-align: right;\n",
              "    }\n",
              "</style>\n",
              "<table border=\"1\" class=\"dataframe\">\n",
              "  <thead>\n",
              "    <tr style=\"text-align: right;\">\n",
              "      <th></th>\n",
              "      <th>Shree Cement</th>\n",
              "      <th>Bajaj Auto</th>\n",
              "      <th>IndusInd Bank</th>\n",
              "      <th>Eicher Motors</th>\n",
              "      <th>Maruti Suzuki</th>\n",
              "      <th>Titan</th>\n",
              "    </tr>\n",
              "  </thead>\n",
              "  <tbody>\n",
              "    <tr>\n",
              "      <th>Shree Cement</th>\n",
              "      <td>0.000418</td>\n",
              "      <td>0.000072</td>\n",
              "      <td>0.000100</td>\n",
              "      <td>0.000121</td>\n",
              "      <td>0.000072</td>\n",
              "      <td>0.000083</td>\n",
              "    </tr>\n",
              "    <tr>\n",
              "      <th>Bajaj Auto</th>\n",
              "      <td>0.000072</td>\n",
              "      <td>0.000251</td>\n",
              "      <td>0.000092</td>\n",
              "      <td>0.000119</td>\n",
              "      <td>0.000100</td>\n",
              "      <td>0.000055</td>\n",
              "    </tr>\n",
              "    <tr>\n",
              "      <th>IndusInd Bank</th>\n",
              "      <td>0.000100</td>\n",
              "      <td>0.000092</td>\n",
              "      <td>0.000237</td>\n",
              "      <td>0.000113</td>\n",
              "      <td>0.000118</td>\n",
              "      <td>0.000069</td>\n",
              "    </tr>\n",
              "    <tr>\n",
              "      <th>Eicher Motors</th>\n",
              "      <td>0.000121</td>\n",
              "      <td>0.000119</td>\n",
              "      <td>0.000113</td>\n",
              "      <td>0.000418</td>\n",
              "      <td>0.000122</td>\n",
              "      <td>0.000089</td>\n",
              "    </tr>\n",
              "    <tr>\n",
              "      <th>Maruti Suzuki</th>\n",
              "      <td>0.000072</td>\n",
              "      <td>0.000100</td>\n",
              "      <td>0.000118</td>\n",
              "      <td>0.000122</td>\n",
              "      <td>0.000264</td>\n",
              "      <td>0.000083</td>\n",
              "    </tr>\n",
              "    <tr>\n",
              "      <th>Titan</th>\n",
              "      <td>0.000083</td>\n",
              "      <td>0.000055</td>\n",
              "      <td>0.000069</td>\n",
              "      <td>0.000089</td>\n",
              "      <td>0.000083</td>\n",
              "      <td>0.000347</td>\n",
              "    </tr>\n",
              "  </tbody>\n",
              "</table>\n",
              "</div>"
            ],
            "text/plain": [
              "               Shree Cement  Bajaj Auto  IndusInd Bank  Eicher Motors  \\\n",
              "Shree Cement       0.000418    0.000072       0.000100       0.000121   \n",
              "Bajaj Auto         0.000072    0.000251       0.000092       0.000119   \n",
              "IndusInd Bank      0.000100    0.000092       0.000237       0.000113   \n",
              "Eicher Motors      0.000121    0.000119       0.000113       0.000418   \n",
              "Maruti Suzuki      0.000072    0.000100       0.000118       0.000122   \n",
              "Titan              0.000083    0.000055       0.000069       0.000089   \n",
              "\n",
              "               Maruti Suzuki     Titan  \n",
              "Shree Cement        0.000072  0.000083  \n",
              "Bajaj Auto          0.000100  0.000055  \n",
              "IndusInd Bank       0.000118  0.000069  \n",
              "Eicher Motors       0.000122  0.000089  \n",
              "Maruti Suzuki       0.000264  0.000083  \n",
              "Titan               0.000083  0.000347  "
            ]
          },
          "metadata": {
            "tags": []
          },
          "execution_count": 32
        }
      ]
    },
    {
      "cell_type": "code",
      "metadata": {
        "scrolled": true,
        "id": "zk4NP2HGQ8tS",
        "outputId": "4813599c-dd77-4f91-a335-e256cffc1252"
      },
      "source": [
        "return_stdev = returns.std()\n",
        "annualised_stdev = return_stdev * np.sqrt(252)\n",
        "annualised_stdev"
      ],
      "execution_count": null,
      "outputs": [
        {
          "output_type": "execute_result",
          "data": {
            "text/plain": [
              "Shree Cement     0.324711\n",
              "Bajaj Auto       0.251288\n",
              "IndusInd Bank    0.244496\n",
              "Eicher Motors    0.324640\n",
              "Maruti Suzuki    0.257868\n",
              "Titan            0.295553\n",
              "dtype: float64"
            ]
          },
          "metadata": {
            "tags": []
          },
          "execution_count": 33
        }
      ]
    },
    {
      "cell_type": "code",
      "metadata": {
        "scrolled": true,
        "id": "_lSIb9iIQ8tY",
        "outputId": "68147e10-8bb1-49d6-eb9b-b0b22cb7d945"
      },
      "source": [
        "beta=pd.Series([1.25,0.98,2.07,0.98,1.39,0.91])\n",
        "beta.index=['Shree Cement', 'Bajaj Auto', 'IndusInd Bank', 'Eicher Motors','Maruti Suzuki', 'Titan']\n",
        "beta"
      ],
      "execution_count": null,
      "outputs": [
        {
          "output_type": "execute_result",
          "data": {
            "text/plain": [
              "Shree Cement     1.25\n",
              "Bajaj Auto       0.98\n",
              "IndusInd Bank    2.07\n",
              "Eicher Motors    0.98\n",
              "Maruti Suzuki    1.39\n",
              "Titan            0.91\n",
              "dtype: float64"
            ]
          },
          "metadata": {
            "tags": []
          },
          "execution_count": 70
        }
      ]
    },
    {
      "cell_type": "markdown",
      "metadata": {
        "id": "JJZhUS-4Q8tf"
      },
      "source": [
        "## Creating Simulation of Various Portfolios"
      ]
    },
    {
      "cell_type": "markdown",
      "metadata": {
        "id": "E2hSFeoMQ8th"
      },
      "source": [
        "We will use Simulations to generate as many portfolio and then compare using variance, return, Treynor Ratio and Sharpe ratio"
      ]
    },
    {
      "cell_type": "code",
      "metadata": {
        "id": "5ANIyZb_Q8tj"
      },
      "source": [
        "#set number of runs of random portfolio weights\n",
        "num_portfolios = 1000000\n",
        "#set up array to hold results\n",
        "results = np.zeros((10,num_portfolios))\n",
        "for i in range(num_portfolios):\n",
        "    #select random weights for portfolio holdings\n",
        "    weights = np.random.random(6)\n",
        "    weights /= np.sum(weights)\n",
        "    \n",
        "    #calculate portfolio return and volatility\n",
        "    portfolio_return = np.sum(cagr * weights)\n",
        "    portfolio_std_dev = np.sqrt(np.dot(weights.T,np.dot(cov_matrix, weights))) * np.sqrt(252)\n",
        "    portfolio_beta = np.sum(weights*beta)\n",
        "    #store results in results array\n",
        "    results[0,i] = portfolio_return\n",
        "    results[1,i] = portfolio_std_dev\n",
        "    results[2,i] = (results[0,i]-0.07)/ results[1,i]\n",
        "    results[3,i] = (results[0,i]-0.07)/portfolio_beta\n",
        "    for j in range(len(weights)):\n",
        "        results[j+4,i] = weights[j]\n"
      ],
      "execution_count": null,
      "outputs": []
    },
    {
      "cell_type": "code",
      "metadata": {
        "id": "Ho_P01HlQ8tp",
        "outputId": "70574000-627f-49a3-a9f6-43a72614d97d"
      },
      "source": [
        "#convert results array to Pandas DataFrame\n",
        "results_frame = pd.DataFrame(results.T,columns=['return','standard deviation','Sharpe Ratio','Treynor Ratio',stocks[0],stocks[1],stocks[2],stocks[3],stocks[4],stocks[5]])\n",
        "results_frame.head()"
      ],
      "execution_count": null,
      "outputs": [
        {
          "output_type": "execute_result",
          "data": {
            "text/html": [
              "<div>\n",
              "<style scoped>\n",
              "    .dataframe tbody tr th:only-of-type {\n",
              "        vertical-align: middle;\n",
              "    }\n",
              "\n",
              "    .dataframe tbody tr th {\n",
              "        vertical-align: top;\n",
              "    }\n",
              "\n",
              "    .dataframe thead th {\n",
              "        text-align: right;\n",
              "    }\n",
              "</style>\n",
              "<table border=\"1\" class=\"dataframe\">\n",
              "  <thead>\n",
              "    <tr style=\"text-align: right;\">\n",
              "      <th></th>\n",
              "      <th>return</th>\n",
              "      <th>standard deviation</th>\n",
              "      <th>Sharpe Ratio</th>\n",
              "      <th>Treynor Ratio</th>\n",
              "      <th>Shree Cement</th>\n",
              "      <th>Bajaj Auto</th>\n",
              "      <th>IndusInd Bank</th>\n",
              "      <th>Eicher Motors</th>\n",
              "      <th>Maruti Suzuki</th>\n",
              "      <th>Titan</th>\n",
              "    </tr>\n",
              "  </thead>\n",
              "  <tbody>\n",
              "    <tr>\n",
              "      <th>0</th>\n",
              "      <td>0.207880</td>\n",
              "      <td>0.183089</td>\n",
              "      <td>0.753078</td>\n",
              "      <td>0.105852</td>\n",
              "      <td>0.000704</td>\n",
              "      <td>0.256873</td>\n",
              "      <td>0.242616</td>\n",
              "      <td>0.143729</td>\n",
              "      <td>0.172617</td>\n",
              "      <td>0.183460</td>\n",
              "    </tr>\n",
              "    <tr>\n",
              "      <th>1</th>\n",
              "      <td>0.205352</td>\n",
              "      <td>0.182543</td>\n",
              "      <td>0.741481</td>\n",
              "      <td>0.111305</td>\n",
              "      <td>0.142231</td>\n",
              "      <td>0.232304</td>\n",
              "      <td>0.162641</td>\n",
              "      <td>0.177785</td>\n",
              "      <td>0.083988</td>\n",
              "      <td>0.201050</td>\n",
              "    </tr>\n",
              "    <tr>\n",
              "      <th>2</th>\n",
              "      <td>0.246599</td>\n",
              "      <td>0.217009</td>\n",
              "      <td>0.813785</td>\n",
              "      <td>0.145784</td>\n",
              "      <td>0.329161</td>\n",
              "      <td>0.141567</td>\n",
              "      <td>0.110613</td>\n",
              "      <td>0.363473</td>\n",
              "      <td>0.053738</td>\n",
              "      <td>0.001447</td>\n",
              "    </tr>\n",
              "    <tr>\n",
              "      <th>3</th>\n",
              "      <td>0.217563</td>\n",
              "      <td>0.187496</td>\n",
              "      <td>0.787020</td>\n",
              "      <td>0.115135</td>\n",
              "      <td>0.295238</td>\n",
              "      <td>0.209679</td>\n",
              "      <td>0.180589</td>\n",
              "      <td>0.100347</td>\n",
              "      <td>0.083527</td>\n",
              "      <td>0.130620</td>\n",
              "    </tr>\n",
              "    <tr>\n",
              "      <th>4</th>\n",
              "      <td>0.248015</td>\n",
              "      <td>0.211962</td>\n",
              "      <td>0.839844</td>\n",
              "      <td>0.123940</td>\n",
              "      <td>0.364071</td>\n",
              "      <td>0.055353</td>\n",
              "      <td>0.318533</td>\n",
              "      <td>0.232174</td>\n",
              "      <td>0.026868</td>\n",
              "      <td>0.003001</td>\n",
              "    </tr>\n",
              "  </tbody>\n",
              "</table>\n",
              "</div>"
            ],
            "text/plain": [
              "     return  standard deviation  Sharpe Ratio  Treynor Ratio  Shree Cement  \\\n",
              "0  0.207880            0.183089      0.753078       0.105852      0.000704   \n",
              "1  0.205352            0.182543      0.741481       0.111305      0.142231   \n",
              "2  0.246599            0.217009      0.813785       0.145784      0.329161   \n",
              "3  0.217563            0.187496      0.787020       0.115135      0.295238   \n",
              "4  0.248015            0.211962      0.839844       0.123940      0.364071   \n",
              "\n",
              "   Bajaj Auto  IndusInd Bank  Eicher Motors  Maruti Suzuki     Titan  \n",
              "0    0.256873       0.242616       0.143729       0.172617  0.183460  \n",
              "1    0.232304       0.162641       0.177785       0.083988  0.201050  \n",
              "2    0.141567       0.110613       0.363473       0.053738  0.001447  \n",
              "3    0.209679       0.180589       0.100347       0.083527  0.130620  \n",
              "4    0.055353       0.318533       0.232174       0.026868  0.003001  "
            ]
          },
          "metadata": {
            "tags": []
          },
          "execution_count": 77
        }
      ]
    },
    {
      "cell_type": "markdown",
      "metadata": {
        "id": "sZOsaesdQ8tu"
      },
      "source": [
        "## Portfolio with Maximum Sharpe Ratio"
      ]
    },
    {
      "cell_type": "code",
      "metadata": {
        "scrolled": true,
        "id": "PyAbxhsRQ8tx",
        "outputId": "ca81a3d3-10c1-4391-e536-67203a199713"
      },
      "source": [
        "max_sharpe_port = results_frame.iloc[results_frame['Sharpe Ratio'].idxmax()]\n",
        "max_sharpe_port"
      ],
      "execution_count": null,
      "outputs": [
        {
          "output_type": "execute_result",
          "data": {
            "text/plain": [
              "return                0.263938\n",
              "standard deviation    0.199759\n",
              "Sharpe Ratio          0.970858\n",
              "Treynor Ratio         0.133077\n",
              "Shree Cement          0.195556\n",
              "Bajaj Auto            0.004304\n",
              "IndusInd Bank         0.239026\n",
              "Eicher Motors         0.158637\n",
              "Maruti Suzuki         0.400367\n",
              "Titan                 0.002111\n",
              "Name: 395416, dtype: float64"
            ]
          },
          "metadata": {
            "tags": []
          },
          "execution_count": 78
        }
      ]
    },
    {
      "cell_type": "markdown",
      "metadata": {
        "id": "ROSRxZw9Q8t4"
      },
      "source": [
        "## Portfolio with Minimum Variance"
      ]
    },
    {
      "cell_type": "code",
      "metadata": {
        "id": "tj4eiUqlQ8t5",
        "outputId": "16d9d6e2-4de8-481d-ea2a-ed275c387d4b"
      },
      "source": [
        "min_var_port = results_frame.iloc[results_frame['standard deviation'].idxmin()]\n",
        "min_var_port"
      ],
      "execution_count": null,
      "outputs": [
        {
          "output_type": "execute_result",
          "data": {
            "text/plain": [
              "return                0.203461\n",
              "standard deviation    0.177609\n",
              "Sharpe Ratio          0.751430\n",
              "Treynor Ratio         0.102111\n",
              "Shree Cement          0.126608\n",
              "Bajaj Auto            0.256266\n",
              "IndusInd Bank         0.221333\n",
              "Eicher Motors         0.032767\n",
              "Maruti Suzuki         0.160400\n",
              "Titan                 0.202627\n",
              "Name: 887943, dtype: float64"
            ]
          },
          "metadata": {
            "tags": []
          },
          "execution_count": 79
        }
      ]
    },
    {
      "cell_type": "markdown",
      "metadata": {
        "id": "H9Dw43hLQ8t-"
      },
      "source": [
        "## Portfolio with Maximum Return"
      ]
    },
    {
      "cell_type": "code",
      "metadata": {
        "id": "QV5obajBQ8t_",
        "outputId": "ba157ac5-895b-40d0-af69-9f2d75d4a5ba"
      },
      "source": [
        "max_ret_port = pd.Series([0.284731,0.257868,0.832716,0.154482,1])\n",
        "max_ret_port.index=['return', 'standard deviation', 'Sharpe Ratio','Treynor Ratio','Maruti Suzuki']\n",
        "max_ret_port"
      ],
      "execution_count": null,
      "outputs": [
        {
          "output_type": "execute_result",
          "data": {
            "text/plain": [
              "return                0.284731\n",
              "standard deviation    0.257868\n",
              "Sharpe Ratio          0.832716\n",
              "Treynor Ratio         0.154482\n",
              "Maruti Suzuki         1.000000\n",
              "dtype: float64"
            ]
          },
          "metadata": {
            "tags": []
          },
          "execution_count": 75
        }
      ]
    },
    {
      "cell_type": "markdown",
      "metadata": {
        "id": "UKI6vrfUQ8uD"
      },
      "source": [
        "## Portfolio with Maximum Treynor Ratio"
      ]
    },
    {
      "cell_type": "code",
      "metadata": {
        "scrolled": false,
        "id": "nMAgeNkQQ8uF",
        "outputId": "bd0b2581-c706-4b0d-92e7-160ccc6ddd88"
      },
      "source": [
        "max_treynor_port = results_frame.iloc[results_frame['Treynor Ratio'].idxmax()]\n",
        "max_treynor_port"
      ],
      "execution_count": null,
      "outputs": [
        {
          "output_type": "execute_result",
          "data": {
            "text/plain": [
              "return                0.259428\n",
              "standard deviation    0.266133\n",
              "Sharpe Ratio          0.711781\n",
              "Treynor Ratio         0.178224\n",
              "Shree Cement          0.208242\n",
              "Bajaj Auto            0.005243\n",
              "IndusInd Bank         0.003546\n",
              "Eicher Motors         0.708214\n",
              "Maruti Suzuki         0.058349\n",
              "Titan                 0.016406\n",
              "Name: 524575, dtype: float64"
            ]
          },
          "metadata": {
            "tags": []
          },
          "execution_count": 80
        }
      ]
    },
    {
      "cell_type": "markdown",
      "metadata": {
        "id": "xOmQQ7lFQ8uK"
      },
      "source": [
        "## All Selected Portfolios"
      ]
    },
    {
      "cell_type": "code",
      "metadata": {
        "id": "YDPzzOEBQ8uM",
        "outputId": "c4f03da1-c79b-49b8-b08d-f95294e214e1"
      },
      "source": [
        "portfolios=pd.DataFrame()\n",
        "portfolios['Max Sharpe Ratio']=max_sharpe_port[4:]\n",
        "portfolios['Min Variance']=min_var_port[4:]\n",
        "portfolios['Max Return']=max_ret_port[4:]\n",
        "portfolios['Max Return']=portfolios['Max Return'].fillna(0)\n",
        "portfolios['Max Treynor Ratio']=max_treynor_port[4:]\n",
        "portfolios"
      ],
      "execution_count": null,
      "outputs": [
        {
          "output_type": "execute_result",
          "data": {
            "text/html": [
              "<div>\n",
              "<style scoped>\n",
              "    .dataframe tbody tr th:only-of-type {\n",
              "        vertical-align: middle;\n",
              "    }\n",
              "\n",
              "    .dataframe tbody tr th {\n",
              "        vertical-align: top;\n",
              "    }\n",
              "\n",
              "    .dataframe thead th {\n",
              "        text-align: right;\n",
              "    }\n",
              "</style>\n",
              "<table border=\"1\" class=\"dataframe\">\n",
              "  <thead>\n",
              "    <tr style=\"text-align: right;\">\n",
              "      <th></th>\n",
              "      <th>Max Sharpe Ratio</th>\n",
              "      <th>Min Variance</th>\n",
              "      <th>Max Return</th>\n",
              "      <th>Max Treynor Ratio</th>\n",
              "    </tr>\n",
              "  </thead>\n",
              "  <tbody>\n",
              "    <tr>\n",
              "      <th>Shree Cement</th>\n",
              "      <td>0.195556</td>\n",
              "      <td>0.126608</td>\n",
              "      <td>0.0</td>\n",
              "      <td>0.208242</td>\n",
              "    </tr>\n",
              "    <tr>\n",
              "      <th>Bajaj Auto</th>\n",
              "      <td>0.004304</td>\n",
              "      <td>0.256266</td>\n",
              "      <td>0.0</td>\n",
              "      <td>0.005243</td>\n",
              "    </tr>\n",
              "    <tr>\n",
              "      <th>IndusInd Bank</th>\n",
              "      <td>0.239026</td>\n",
              "      <td>0.221333</td>\n",
              "      <td>0.0</td>\n",
              "      <td>0.003546</td>\n",
              "    </tr>\n",
              "    <tr>\n",
              "      <th>Eicher Motors</th>\n",
              "      <td>0.158637</td>\n",
              "      <td>0.032767</td>\n",
              "      <td>0.0</td>\n",
              "      <td>0.708214</td>\n",
              "    </tr>\n",
              "    <tr>\n",
              "      <th>Maruti Suzuki</th>\n",
              "      <td>0.400367</td>\n",
              "      <td>0.160400</td>\n",
              "      <td>1.0</td>\n",
              "      <td>0.058349</td>\n",
              "    </tr>\n",
              "    <tr>\n",
              "      <th>Titan</th>\n",
              "      <td>0.002111</td>\n",
              "      <td>0.202627</td>\n",
              "      <td>0.0</td>\n",
              "      <td>0.016406</td>\n",
              "    </tr>\n",
              "  </tbody>\n",
              "</table>\n",
              "</div>"
            ],
            "text/plain": [
              "               Max Sharpe Ratio  Min Variance  Max Return  Max Treynor Ratio\n",
              "Shree Cement           0.195556      0.126608         0.0           0.208242\n",
              "Bajaj Auto             0.004304      0.256266         0.0           0.005243\n",
              "IndusInd Bank          0.239026      0.221333         0.0           0.003546\n",
              "Eicher Motors          0.158637      0.032767         0.0           0.708214\n",
              "Maruti Suzuki          0.400367      0.160400         1.0           0.058349\n",
              "Titan                  0.002111      0.202627         0.0           0.016406"
            ]
          },
          "metadata": {
            "tags": []
          },
          "execution_count": 111
        }
      ]
    },
    {
      "cell_type": "markdown",
      "metadata": {
        "id": "e284MJ-SQ8uT"
      },
      "source": [
        "## Creating Markowitz Bullet and ploting selected Portfolios"
      ]
    },
    {
      "cell_type": "code",
      "metadata": {
        "id": "PPWx50lrQ8uV",
        "outputId": "cbb2e6fa-fa16-40ed-81ca-a16f74e2d82f"
      },
      "source": [
        "#create scatter plot coloured by Sharpe Ratio\n",
        "plt.figure(figsize=(12,8))\n",
        "plt.scatter(results_frame['standard deviation'],results_frame['return'],c=results_frame['Sharpe Ratio'],cmap='RdYlBu')\n",
        "plt.colorbar()\n",
        "#plot red star to highlight position of portfolio with highest Sharpe Ratio\n",
        "plt.scatter(max_sharpe_port[1],max_sharpe_port[0],marker=(5,1,0),color='r',s=1000)\n",
        "#plot green star to highlight position of minimum variance portfolio\n",
        "plt.scatter(min_vol_port[1],min_vol_port[0],marker=(5,1,0),color='g',s=1000)\n",
        "#plot yellow star to highlight position of portfolio with highest Treynor Ratio\n",
        "plt.scatter(max_treynor_port[1],max_treynor_port[0],marker=(5,1,0),color='y',s=1000)\n",
        "#plot cyan star to highlight position of portfolio with highest return portfolio\n",
        "plt.scatter(max_ret_port[1],max_ret_port[0],marker=(5,1,0),color='c',s=1000)"
      ],
      "execution_count": null,
      "outputs": [
        {
          "output_type": "execute_result",
          "data": {
            "text/plain": [
              "<matplotlib.collections.PathCollection at 0x164db8304a8>"
            ]
          },
          "metadata": {
            "tags": []
          },
          "execution_count": 81
        },
        {
          "output_type": "display_data",
          "data": {
            "image/png": "[encoded data removed]",
            "text/plain": [
              "<Figure size 864x576 with 2 Axes>"
            ]
          },
          "metadata": {
            "tags": [],
            "needs_background": "light"
          }
        }
      ]
    },
    {
      "cell_type": "markdown",
      "metadata": {
        "id": "0KzaMBKsQ8ub"
      },
      "source": [
        "## Testing Data"
      ]
    },
    {
      "cell_type": "code",
      "metadata": {
        "id": "nXmErZOlQ8ue"
      },
      "source": [
        "shree1 = get_history(symbol=\"SHREECEM\", start=date(2017,4,1), end=date(2018,3,31))\n",
        "bajajauto1 = get_history(symbol=\"BAJAJ-AUTO\", start=date(2017,4,1), end=date(2018,3,31))\n",
        "indusind1 = get_history(symbol=\"INDUSINDBK\", start=date(2017,4,1), end=date(2018,3,31))\n",
        "eicher1 = get_history(symbol=\"EICHERMOT\", start=date(2017,4,1), end=date(2018,3,31))\n",
        "maruti1 = get_history(symbol=\"MARUTI\", start=date(2017,4,1), end=date(2018,3,31))\n",
        "titan1 = get_history(symbol=\"TITAN\", start=date(2017,4,1), end=date(2018,3,31))"
      ],
      "execution_count": null,
      "outputs": []
    },
    {
      "cell_type": "code",
      "metadata": {
        "scrolled": true,
        "id": "Wf2x57N4Q8uk",
        "outputId": "ad008015-eaae-48b4-ae76-398b5e01c49e"
      },
      "source": [
        "# Closing Data points\n",
        "data1=pd.DataFrame()\n",
        "data1['Shree Cement']=pd.Series(shree1.Close)\n",
        "data1['Bajaj Auto']=pd.Series(bajajauto1.Close)\n",
        "data1['IndusInd Bank']=pd.Series(indusind1.Close)\n",
        "data1['Eicher Motors']=pd.Series(eicher1.Close)\n",
        "data1['Maruti Suzuki']=pd.Series(maruti1.Close)\n",
        "data1['Titan']=pd.Series(titan1.Close)\n",
        "data1.head()"
      ],
      "execution_count": null,
      "outputs": [
        {
          "output_type": "execute_result",
          "data": {
            "text/html": [
              "<div>\n",
              "<style scoped>\n",
              "    .dataframe tbody tr th:only-of-type {\n",
              "        vertical-align: middle;\n",
              "    }\n",
              "\n",
              "    .dataframe tbody tr th {\n",
              "        vertical-align: top;\n",
              "    }\n",
              "\n",
              "    .dataframe thead th {\n",
              "        text-align: right;\n",
              "    }\n",
              "</style>\n",
              "<table border=\"1\" class=\"dataframe\">\n",
              "  <thead>\n",
              "    <tr style=\"text-align: right;\">\n",
              "      <th></th>\n",
              "      <th>Shree Cement</th>\n",
              "      <th>Bajaj Auto</th>\n",
              "      <th>IndusInd Bank</th>\n",
              "      <th>Eicher Motors</th>\n",
              "      <th>Maruti Suzuki</th>\n",
              "      <th>Titan</th>\n",
              "    </tr>\n",
              "    <tr>\n",
              "      <th>Date</th>\n",
              "      <th></th>\n",
              "      <th></th>\n",
              "      <th></th>\n",
              "      <th></th>\n",
              "      <th></th>\n",
              "      <th></th>\n",
              "    </tr>\n",
              "  </thead>\n",
              "  <tbody>\n",
              "    <tr>\n",
              "      <th>2017-04-03</th>\n",
              "      <td>17169.65</td>\n",
              "      <td>2783.60</td>\n",
              "      <td>1403.45</td>\n",
              "      <td>25543.65</td>\n",
              "      <td>6072.00</td>\n",
              "      <td>459.35</td>\n",
              "    </tr>\n",
              "    <tr>\n",
              "      <th>2017-04-05</th>\n",
              "      <td>17394.35</td>\n",
              "      <td>2760.85</td>\n",
              "      <td>1400.95</td>\n",
              "      <td>25765.25</td>\n",
              "      <td>6342.40</td>\n",
              "      <td>491.75</td>\n",
              "    </tr>\n",
              "    <tr>\n",
              "      <th>2017-04-06</th>\n",
              "      <td>17597.85</td>\n",
              "      <td>2806.30</td>\n",
              "      <td>1421.65</td>\n",
              "      <td>25596.30</td>\n",
              "      <td>6291.65</td>\n",
              "      <td>487.40</td>\n",
              "    </tr>\n",
              "    <tr>\n",
              "      <th>2017-04-07</th>\n",
              "      <td>17826.25</td>\n",
              "      <td>2830.45</td>\n",
              "      <td>1412.20</td>\n",
              "      <td>25806.85</td>\n",
              "      <td>6259.35</td>\n",
              "      <td>485.40</td>\n",
              "    </tr>\n",
              "    <tr>\n",
              "      <th>2017-04-10</th>\n",
              "      <td>17668.00</td>\n",
              "      <td>2837.00</td>\n",
              "      <td>1425.35</td>\n",
              "      <td>25578.25</td>\n",
              "      <td>6268.85</td>\n",
              "      <td>485.75</td>\n",
              "    </tr>\n",
              "  </tbody>\n",
              "</table>\n",
              "</div>"
            ],
            "text/plain": [
              "            Shree Cement  Bajaj Auto  IndusInd Bank  Eicher Motors  \\\n",
              "Date                                                                 \n",
              "2017-04-03      17169.65     2783.60        1403.45       25543.65   \n",
              "2017-04-05      17394.35     2760.85        1400.95       25765.25   \n",
              "2017-04-06      17597.85     2806.30        1421.65       25596.30   \n",
              "2017-04-07      17826.25     2830.45        1412.20       25806.85   \n",
              "2017-04-10      17668.00     2837.00        1425.35       25578.25   \n",
              "\n",
              "            Maruti Suzuki   Titan  \n",
              "Date                               \n",
              "2017-04-03        6072.00  459.35  \n",
              "2017-04-05        6342.40  491.75  \n",
              "2017-04-06        6291.65  487.40  \n",
              "2017-04-07        6259.35  485.40  \n",
              "2017-04-10        6268.85  485.75  "
            ]
          },
          "metadata": {
            "tags": []
          },
          "execution_count": 88
        }
      ]
    },
    {
      "cell_type": "code",
      "metadata": {
        "scrolled": true,
        "id": "iRsoORCIQ8ur",
        "outputId": "05f3e485-5c89-49c3-9050-792d35fd1e32"
      },
      "source": [
        "# Daily returns as percentage\n",
        "returns1=pd.DataFrame()\n",
        "returns1['Shree Cement']=pd.Series(shree1.Close.pct_change())\n",
        "returns1['Bajaj Auto']=pd.Series(bajajauto1.Close.pct_change())\n",
        "returns1['IndusInd Bank']=pd.Series(indusind1.Close.pct_change())\n",
        "returns1['Eicher Motors']=pd.Series(eicher1.Close.pct_change())\n",
        "returns1['Maruti Suzuki']=pd.Series(maruti1.Close.pct_change())\n",
        "returns1['Titan']=pd.Series(titan1.Close.pct_change())\n",
        "returns1.head()"
      ],
      "execution_count": null,
      "outputs": [
        {
          "output_type": "execute_result",
          "data": {
            "text/html": [
              "<div>\n",
              "<style scoped>\n",
              "    .dataframe tbody tr th:only-of-type {\n",
              "        vertical-align: middle;\n",
              "    }\n",
              "\n",
              "    .dataframe tbody tr th {\n",
              "        vertical-align: top;\n",
              "    }\n",
              "\n",
              "    .dataframe thead th {\n",
              "        text-align: right;\n",
              "    }\n",
              "</style>\n",
              "<table border=\"1\" class=\"dataframe\">\n",
              "  <thead>\n",
              "    <tr style=\"text-align: right;\">\n",
              "      <th></th>\n",
              "      <th>Shree Cement</th>\n",
              "      <th>Bajaj Auto</th>\n",
              "      <th>IndusInd Bank</th>\n",
              "      <th>Eicher Motors</th>\n",
              "      <th>Maruti Suzuki</th>\n",
              "      <th>Titan</th>\n",
              "    </tr>\n",
              "    <tr>\n",
              "      <th>Date</th>\n",
              "      <th></th>\n",
              "      <th></th>\n",
              "      <th></th>\n",
              "      <th></th>\n",
              "      <th></th>\n",
              "      <th></th>\n",
              "    </tr>\n",
              "  </thead>\n",
              "  <tbody>\n",
              "    <tr>\n",
              "      <th>2017-04-03</th>\n",
              "      <td>NaN</td>\n",
              "      <td>NaN</td>\n",
              "      <td>NaN</td>\n",
              "      <td>NaN</td>\n",
              "      <td>NaN</td>\n",
              "      <td>NaN</td>\n",
              "    </tr>\n",
              "    <tr>\n",
              "      <th>2017-04-05</th>\n",
              "      <td>0.013087</td>\n",
              "      <td>-0.008173</td>\n",
              "      <td>-0.001781</td>\n",
              "      <td>0.008675</td>\n",
              "      <td>0.044532</td>\n",
              "      <td>0.070534</td>\n",
              "    </tr>\n",
              "    <tr>\n",
              "      <th>2017-04-06</th>\n",
              "      <td>0.011699</td>\n",
              "      <td>0.016462</td>\n",
              "      <td>0.014776</td>\n",
              "      <td>-0.006557</td>\n",
              "      <td>-0.008002</td>\n",
              "      <td>-0.008846</td>\n",
              "    </tr>\n",
              "    <tr>\n",
              "      <th>2017-04-07</th>\n",
              "      <td>0.012979</td>\n",
              "      <td>0.008606</td>\n",
              "      <td>-0.006647</td>\n",
              "      <td>0.008226</td>\n",
              "      <td>-0.005134</td>\n",
              "      <td>-0.004103</td>\n",
              "    </tr>\n",
              "    <tr>\n",
              "      <th>2017-04-10</th>\n",
              "      <td>-0.008877</td>\n",
              "      <td>0.002314</td>\n",
              "      <td>0.009312</td>\n",
              "      <td>-0.008858</td>\n",
              "      <td>0.001518</td>\n",
              "      <td>0.000721</td>\n",
              "    </tr>\n",
              "  </tbody>\n",
              "</table>\n",
              "</div>"
            ],
            "text/plain": [
              "            Shree Cement  Bajaj Auto  IndusInd Bank  Eicher Motors  \\\n",
              "Date                                                                 \n",
              "2017-04-03           NaN         NaN            NaN            NaN   \n",
              "2017-04-05      0.013087   -0.008173      -0.001781       0.008675   \n",
              "2017-04-06      0.011699    0.016462       0.014776      -0.006557   \n",
              "2017-04-07      0.012979    0.008606      -0.006647       0.008226   \n",
              "2017-04-10     -0.008877    0.002314       0.009312      -0.008858   \n",
              "\n",
              "            Maruti Suzuki     Titan  \n",
              "Date                                 \n",
              "2017-04-03            NaN       NaN  \n",
              "2017-04-05       0.044532  0.070534  \n",
              "2017-04-06      -0.008002 -0.008846  \n",
              "2017-04-07      -0.005134 -0.004103  \n",
              "2017-04-10       0.001518  0.000721  "
            ]
          },
          "metadata": {
            "tags": []
          },
          "execution_count": 86
        }
      ]
    },
    {
      "cell_type": "code",
      "metadata": {
        "id": "qrYo0x9ZQ8ux"
      },
      "source": [
        "df=data1.reset_index()\n",
        "df['Date']=df.Date.astype('datetime64[ns]')\n",
        "df=df.set_index('Date')\n",
        "data1=df.copy()"
      ],
      "execution_count": null,
      "outputs": []
    },
    {
      "cell_type": "code",
      "metadata": {
        "id": "UPKPBSSeQ8u1"
      },
      "source": [
        "df=returns1.reset_index()\n",
        "df['Date']=df.Date.astype('datetime64[ns]')\n",
        "df=df.set_index('Date')\n",
        "returns1=df.copy()"
      ],
      "execution_count": null,
      "outputs": []
    },
    {
      "cell_type": "markdown",
      "metadata": {
        "id": "yfDdrihTQ8u5"
      },
      "source": [
        "## Calculating Expected Return, Standard Deviation and CoVariance of Testing data"
      ]
    },
    {
      "cell_type": "code",
      "metadata": {
        "id": "NNQEarwEQ8u7",
        "outputId": "53926a82-773a-4f65-9aef-e7dee5f0ae1b"
      },
      "source": [
        "cagr1=np.sqrt((data1.loc['2018-03-28'])/data1.loc['2017-04-03'])-1\n",
        "cagr1"
      ],
      "execution_count": null,
      "outputs": [
        {
          "output_type": "execute_result",
          "data": {
            "text/plain": [
              "Shree Cement    -0.028754\n",
              "Bajaj Auto      -0.007012\n",
              "IndusInd Bank    0.131476\n",
              "Eicher Motors    0.053922\n",
              "Maruti Suzuki    0.208031\n",
              "Titan            0.432263\n",
              "dtype: float64"
            ]
          },
          "metadata": {
            "tags": []
          },
          "execution_count": 94
        }
      ]
    },
    {
      "cell_type": "code",
      "metadata": {
        "id": "-ibYY4RIQ8u_",
        "outputId": "de016156-ce7c-4ec2-f061-571e977bb2d7"
      },
      "source": [
        "return_stdev1 = returns1.std()\n",
        "annualised_stdev1 = return_stdev1 * np.sqrt(246)\n",
        "annualised_stdev1"
      ],
      "execution_count": null,
      "outputs": [
        {
          "output_type": "execute_result",
          "data": {
            "text/plain": [
              "Shree Cement     0.253349\n",
              "Bajaj Auto       0.188653\n",
              "IndusInd Bank    0.184579\n",
              "Eicher Motors    0.239245\n",
              "Maruti Suzuki    0.184725\n",
              "Titan            0.374362\n",
              "dtype: float64"
            ]
          },
          "metadata": {
            "tags": []
          },
          "execution_count": 95
        }
      ]
    },
    {
      "cell_type": "code",
      "metadata": {
        "id": "Dp5Wb6tMQ8vE",
        "outputId": "73398719-b486-4fc6-c395-ed73c8799e78"
      },
      "source": [
        "cov_matrix1 = returns1.cov()\n",
        "cov_matrix1"
      ],
      "execution_count": null,
      "outputs": [
        {
          "output_type": "execute_result",
          "data": {
            "text/html": [
              "<div>\n",
              "<style scoped>\n",
              "    .dataframe tbody tr th:only-of-type {\n",
              "        vertical-align: middle;\n",
              "    }\n",
              "\n",
              "    .dataframe tbody tr th {\n",
              "        vertical-align: top;\n",
              "    }\n",
              "\n",
              "    .dataframe thead th {\n",
              "        text-align: right;\n",
              "    }\n",
              "</style>\n",
              "<table border=\"1\" class=\"dataframe\">\n",
              "  <thead>\n",
              "    <tr style=\"text-align: right;\">\n",
              "      <th></th>\n",
              "      <th>Shree Cement</th>\n",
              "      <th>Bajaj Auto</th>\n",
              "      <th>IndusInd Bank</th>\n",
              "      <th>Eicher Motors</th>\n",
              "      <th>Maruti Suzuki</th>\n",
              "      <th>Titan</th>\n",
              "    </tr>\n",
              "  </thead>\n",
              "  <tbody>\n",
              "    <tr>\n",
              "      <th>Shree Cement</th>\n",
              "      <td>0.000261</td>\n",
              "      <td>0.000041</td>\n",
              "      <td>0.000019</td>\n",
              "      <td>0.000070</td>\n",
              "      <td>0.000032</td>\n",
              "      <td>0.000059</td>\n",
              "    </tr>\n",
              "    <tr>\n",
              "      <th>Bajaj Auto</th>\n",
              "      <td>0.000041</td>\n",
              "      <td>0.000145</td>\n",
              "      <td>0.000033</td>\n",
              "      <td>0.000071</td>\n",
              "      <td>0.000056</td>\n",
              "      <td>0.000070</td>\n",
              "    </tr>\n",
              "    <tr>\n",
              "      <th>IndusInd Bank</th>\n",
              "      <td>0.000019</td>\n",
              "      <td>0.000033</td>\n",
              "      <td>0.000138</td>\n",
              "      <td>0.000038</td>\n",
              "      <td>0.000040</td>\n",
              "      <td>0.000013</td>\n",
              "    </tr>\n",
              "    <tr>\n",
              "      <th>Eicher Motors</th>\n",
              "      <td>0.000070</td>\n",
              "      <td>0.000071</td>\n",
              "      <td>0.000038</td>\n",
              "      <td>0.000233</td>\n",
              "      <td>0.000065</td>\n",
              "      <td>0.000064</td>\n",
              "    </tr>\n",
              "    <tr>\n",
              "      <th>Maruti Suzuki</th>\n",
              "      <td>0.000032</td>\n",
              "      <td>0.000056</td>\n",
              "      <td>0.000040</td>\n",
              "      <td>0.000065</td>\n",
              "      <td>0.000139</td>\n",
              "      <td>0.000065</td>\n",
              "    </tr>\n",
              "    <tr>\n",
              "      <th>Titan</th>\n",
              "      <td>0.000059</td>\n",
              "      <td>0.000070</td>\n",
              "      <td>0.000013</td>\n",
              "      <td>0.000064</td>\n",
              "      <td>0.000065</td>\n",
              "      <td>0.000570</td>\n",
              "    </tr>\n",
              "  </tbody>\n",
              "</table>\n",
              "</div>"
            ],
            "text/plain": [
              "               Shree Cement  Bajaj Auto  IndusInd Bank  Eicher Motors  \\\n",
              "Shree Cement       0.000261    0.000041       0.000019       0.000070   \n",
              "Bajaj Auto         0.000041    0.000145       0.000033       0.000071   \n",
              "IndusInd Bank      0.000019    0.000033       0.000138       0.000038   \n",
              "Eicher Motors      0.000070    0.000071       0.000038       0.000233   \n",
              "Maruti Suzuki      0.000032    0.000056       0.000040       0.000065   \n",
              "Titan              0.000059    0.000070       0.000013       0.000064   \n",
              "\n",
              "               Maruti Suzuki     Titan  \n",
              "Shree Cement        0.000032  0.000059  \n",
              "Bajaj Auto          0.000056  0.000070  \n",
              "IndusInd Bank       0.000040  0.000013  \n",
              "Eicher Motors       0.000065  0.000064  \n",
              "Maruti Suzuki       0.000139  0.000065  \n",
              "Titan               0.000065  0.000570  "
            ]
          },
          "metadata": {
            "tags": []
          },
          "execution_count": 121
        }
      ]
    },
    {
      "cell_type": "markdown",
      "metadata": {
        "id": "pk1tU98RQ8vL"
      },
      "source": [
        "## Using Above portfolios comparing  "
      ]
    },
    {
      "cell_type": "markdown",
      "metadata": {
        "id": "8EDdLLWLQ8vM"
      },
      "source": [
        "### Expected Return"
      ]
    },
    {
      "cell_type": "code",
      "metadata": {
        "id": "CJmsGhFeQ8vO",
        "outputId": "450cf3db-c29d-45b9-ea7d-7f3ae04ec1f7"
      },
      "source": [
        "er=np.dot(cagr1,portfolios)\n",
        "er"
      ],
      "execution_count": null,
      "outputs": [
        {
          "output_type": "execute_result",
          "data": {
            "text/plain": [
              "array([0.11852784, 0.14638567, 0.20803061, 0.05185999])"
            ]
          },
          "metadata": {
            "tags": []
          },
          "execution_count": 124
        }
      ]
    },
    {
      "cell_type": "markdown",
      "metadata": {
        "id": "6VilN3-YQ8vT"
      },
      "source": [
        "Max Return Portfolio - Maruti Suzuki(1.0) performs best in this criteria"
      ]
    },
    {
      "cell_type": "markdown",
      "metadata": {
        "id": "xcF95y44Q8vU"
      },
      "source": [
        "### Standard Deviation"
      ]
    },
    {
      "cell_type": "code",
      "metadata": {
        "scrolled": true,
        "id": "IAPYxna4Q8vV",
        "outputId": "4895bfec-1e9f-4198-a874-f65599b2d8fb"
      },
      "source": [
        "std=[]\n",
        "for i in portfolios.columns:\n",
        "    std.append(np.sqrt(np.dot(portfolios[i],(np.dot(cov_matrix1,portfolios[i].T))))* np.sqrt(246))\n",
        "std"
      ],
      "execution_count": null,
      "outputs": [
        {
          "output_type": "execute_result",
          "data": {
            "text/plain": [
              "[0.1371237110432737,\n",
              " 0.1433283341395982,\n",
              " 0.1847246080257723,\n",
              " 0.19739566100172118]"
            ]
          },
          "metadata": {
            "tags": []
          },
          "execution_count": 123
        }
      ]
    },
    {
      "cell_type": "markdown",
      "metadata": {
        "id": "dRFoeO0HQ8vZ"
      },
      "source": [
        "Max Sharpe Ratio portfolio of=\n",
        "\n",
        "Shree Cement-0.195556, \n",
        "Bajaj Auto-0.004304,\n",
        "IndusInd Bank-0.239026,\n",
        "Eicher Motors-0.158637,\n",
        "Maruti Suzuki-0.400367,\n",
        "Titan-0.002111\n",
        "\n",
        "Wins the race here"
      ]
    },
    {
      "cell_type": "markdown",
      "metadata": {
        "id": "k23K_gzrQ8vZ"
      },
      "source": [
        "### Sharpe Ratio"
      ]
    },
    {
      "cell_type": "code",
      "metadata": {
        "id": "JyH8BqBuQ8vb",
        "outputId": "ca3e1e5c-dc52-47b3-f58c-7c38ad2aaabe"
      },
      "source": [
        "sr=(er-0.07)/std\n",
        "sr"
      ],
      "execution_count": null,
      "outputs": [
        {
          "output_type": "execute_result",
          "data": {
            "text/plain": [
              "array([ 0.35389825,  0.53294187,  0.7472237 , -0.09189672])"
            ]
          },
          "metadata": {
            "tags": []
          },
          "execution_count": 125
        }
      ]
    },
    {
      "cell_type": "markdown",
      "metadata": {
        "id": "W2Cc12N4Q8ve"
      },
      "source": [
        "Max Return Portfolio - Maruti Suzuki(1.0) performs best in this criteria"
      ]
    },
    {
      "cell_type": "markdown",
      "metadata": {
        "id": "sHIkHOBiQ8vg"
      },
      "source": [
        "### Treynor Ratio"
      ]
    },
    {
      "cell_type": "code",
      "metadata": {
        "id": "XURg91d8Q8vi",
        "outputId": "b9ae23fa-f075-4d12-9ad4-38ad55f93281"
      },
      "source": [
        "portfolio_beta=np.dot(beta,portfolios)\n",
        "tr=(er-0.07)/portfolio_beta\n",
        "tr"
      ],
      "execution_count": null,
      "outputs": [
        {
          "output_type": "execute_result",
          "data": {
            "text/plain": [
              "array([ 0.03329891,  0.05844276,  0.09930259, -0.01706709])"
            ]
          },
          "metadata": {
            "tags": []
          },
          "execution_count": 126
        }
      ]
    },
    {
      "cell_type": "markdown",
      "metadata": {
        "id": "LO141Q35Q8vm"
      },
      "source": [
        "Max Return Portfolio - Maruti Suzuki(1.0) again performs best here"
      ]
    },
    {
      "cell_type": "markdown",
      "metadata": {
        "id": "2pbwaKXhQ8vo"
      },
      "source": [
        "Its interesting to see Maruti Suzuki has outperformed any other portfolio but Minimum risk is taken in consideration Max. Sharpe ratio portfolio performs well"
      ]
    },
    {
      "cell_type": "markdown",
      "metadata": {
        "id": "gp_iRdPBQ8vp"
      },
      "source": [
        "### Which optimization techniques are used by Mutual Funds currently?\n",
        "Mutual funds use techniques like Arbritrage Pricing Models and Stochastic programming for multistage portfolio optimization"
      ]
    },
    {
      "cell_type": "code",
      "metadata": {
        "id": "ryh7-FN1Q8vp"
      },
      "source": [
        ""
      ],
      "execution_count": null,
      "outputs": []
    }
  ]
}
